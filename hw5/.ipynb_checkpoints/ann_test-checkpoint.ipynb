{
 "cells": [
  {
   "cell_type": "code",
   "execution_count": 52,
   "metadata": {},
   "outputs": [
    {
     "name": "stdout",
     "output_type": "stream",
     "text": [
      "[4.83371904e-69]\n"
     ]
    }
   ],
   "source": [
    "from joblib.numpy_pickle_utils import xrange\n",
    "from numpy import *\n",
    "\n",
    "\n",
    "class NeuralNet(object):\n",
    "    def __init__(self):\n",
    "        # Generate random numbers\n",
    "        random.seed(1)\n",
    "\n",
    "        # Assign random weights to a 3 x 1 matrix,\n",
    "        self.synaptic_weights = 2 * random.random((3, 1)) - 1\n",
    "\n",
    "    # The Sigmoid function\n",
    "    def __sigmoid(self, x):\n",
    "        return 1 / (1 + exp(-x))\n",
    "\n",
    "    # The derivative of the Sigmoid function.\n",
    "    # This is the gradient of the Sigmoid curve.\n",
    "    def __sigmoid_derivative(self, x):\n",
    "        return x * (1 - x)\n",
    "\n",
    "    # Train the neural network and adjust the weights each time.\n",
    "    def train(self, inputs, outputs, training_iterations):\n",
    "        for iteration in xrange(training_iterations):\n",
    "            # Pass the training set through the network.\n",
    "            output = self.learn(inputs)\n",
    "\n",
    "            # Calculate the error\n",
    "            error = outputs - output\n",
    "\n",
    "            # Adjust the weights by a factor\n",
    "            factor = dot(inputs.T, error * self.__sigmoid_derivative(output))\n",
    "            self.synaptic_weights += factor\n",
    "\n",
    "        # The neural network thinks.\n",
    "\n",
    "    def learn(self, inputs):\n",
    "        return self.__sigmoid(dot(inputs, self.synaptic_weights))\n",
    "\n",
    "\n",
    "if __name__ == \"__main__\":\n",
    "    # Initialize\n",
    "    neural_network = NeuralNet()\n",
    "\n",
    "    # The training set.\n",
    "    inputs = array([[0, 1, 1], [1, 0, 0], [1, 0, 1]])\n",
    "    outputs = array([[10, 5, 10]]).T\n",
    "\n",
    "    # Train the neural network\n",
    "    neural_network.train(inputs, outputs, 1000)\n",
    "\n",
    "    # Test the neural network with a test example.\n",
    "    print(neural_network.learn(array([1, 0, 1])))\n"
   ]
  },
  {
   "cell_type": "code",
   "execution_count": null,
   "metadata": {},
   "outputs": [],
   "source": []
  }
 ],
 "metadata": {
  "kernelspec": {
   "display_name": "Python 3.7.4 64-bit",
   "language": "python",
   "name": "python37464bitac9542d4e9744469a5f40e43b23d61ae"
  },
  "language_info": {
   "codemirror_mode": {
    "name": "ipython",
    "version": 3
   },
   "file_extension": ".py",
   "mimetype": "text/x-python",
   "name": "python",
   "nbconvert_exporter": "python",
   "pygments_lexer": "ipython3",
   "version": "3.7.7"
  },
  "toc": {
   "base_numbering": 1,
   "nav_menu": {},
   "number_sections": true,
   "sideBar": true,
   "skip_h1_title": false,
   "title_cell": "Table of Contents",
   "title_sidebar": "Contents",
   "toc_cell": false,
   "toc_position": {},
   "toc_section_display": true,
   "toc_window_display": false
  },
  "varInspector": {
   "cols": {
    "lenName": 16,
    "lenType": 16,
    "lenVar": 40
   },
   "kernels_config": {
    "python": {
     "delete_cmd_postfix": "",
     "delete_cmd_prefix": "del ",
     "library": "var_list.py",
     "varRefreshCmd": "print(var_dic_list())"
    },
    "r": {
     "delete_cmd_postfix": ") ",
     "delete_cmd_prefix": "rm(",
     "library": "var_list.r",
     "varRefreshCmd": "cat(var_dic_list()) "
    }
   },
   "types_to_exclude": [
    "module",
    "function",
    "builtin_function_or_method",
    "instance",
    "_Feature"
   ],
   "window_display": false
  }
 },
 "nbformat": 4,
 "nbformat_minor": 2
}
