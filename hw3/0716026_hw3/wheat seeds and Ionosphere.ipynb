{
 "cells": [
  {
   "cell_type": "markdown",
   "metadata": {},
   "source": [
    "```\n",
    "學號：0716026 \n",
    "姓名：蕭楚澔\n",
    "```"
   ]
  },
  {
   "cell_type": "code",
   "execution_count": 1,
   "metadata": {},
   "outputs": [],
   "source": [
    "# Import\n",
    "\n",
    "import numpy as np\n",
    "import pandas as pd\n",
    "import matplotlib.pyplot as plt\n",
    "from matplotlib.pyplot  import MultipleLocator\n",
    "import copy\n",
    "from sklearn.utils import shuffle\n",
    "from sklearn.metrics import accuracy_score, confusion_matrix, recall_score, precision_score\n",
    "from sklearn.model_selection import train_test_split\n",
    "from sklearn import svm\n",
    "from sklearn.model_selection import GridSearchCV\n",
    "from sklearn.model_selection import KFold\n",
    "import prettytable as pt\n",
    "from tabulate import tabulate"
   ]
  },
  {
   "cell_type": "markdown",
   "metadata": {},
   "source": [
    "```\n",
    "1. Data Input\n",
    "```"
   ]
  },
  {
   "cell_type": "code",
   "execution_count": 2,
   "metadata": {},
   "outputs": [],
   "source": [
    "# Data Input\n",
    "\n",
    "# Wheat\n",
    "with open('seeds_dataset.txt') as datafile:\n",
    "    datasets = datafile.readlines()\n",
    "    \n",
    "# Ionosphere\n",
    "read_file = pd.read_csv (r'ionosphere.data', header=None)"
   ]
  },
  {
   "cell_type": "markdown",
   "metadata": {},
   "source": [
    "```\n",
    "2. Data Preprocessing\n",
    "```"
   ]
  },
  {
   "cell_type": "code",
   "execution_count": 3,
   "metadata": {},
   "outputs": [],
   "source": [
    "# Data Preprocessing\n",
    "\n",
    "# Transform data format and shape so your model can process them.\n",
    "# Wheat\n",
    "delete_column = []\n",
    "for i in range(len(datasets)-1, -1, -1):\n",
    "    datasets[i] = datasets[i].split('\\t')\n",
    "    if(len(datasets[i]) == 8):\n",
    "        datasets[i][7] = datasets[i][7].replace('\\n', '')\n",
    "    else:\n",
    "        delete_column.append(i)\n",
    "\n",
    "column = ['area', 'perimeter', 'compactness', 'length of kernel', 'width of kernel', 'asymmetry coefficient', \n",
    "          'length of kernel groove', 'varieties of wheat']\n",
    "for num in delete_column:\n",
    "    del datasets[num]\n",
    "df1 = pd.DataFrame(datasets)\n",
    "df1.columns = column\n",
    "\n",
    "# Ionosphere\n",
    "df2 = read_file.copy(deep=True)\n",
    "df2 = df2.rename(columns={34: 'label'})\n",
    "\n",
    "# Shuffle the data.\n",
    "df1 = shuffle(df1)\n",
    "df2 = shuffle(df2)"
   ]
  },
  {
   "cell_type": "code",
   "execution_count": 4,
   "metadata": {},
   "outputs": [],
   "source": [
    "# function\n",
    "\n",
    "def distance(list1, list2):\n",
    "    sum = 0\n",
    "    for i in range(0, len(list1)-1):\n",
    "        sum+=(np.square(float(list1[i])-float(list2[i])))\n",
    "    return np.sqrt(sum)\n",
    "\n",
    "def shortest(d_list, C):\n",
    "    K = len(C)\n",
    "    minimum = distance(d_list, C[0])\n",
    "    result = 0\n",
    "    for i in range(0, K):\n",
    "        dist = distance(d_list, C[i])\n",
    "        if(dist<minimum):\n",
    "            minimum = dist\n",
    "            result = i\n",
    "    return result\n",
    "\n",
    "def summarize(ds, j):\n",
    "    sum = 0\n",
    "    for i in range(0, len(ds)):\n",
    "        sum+=float(ds[i:i+1].values[0][j])\n",
    "    return sum\n",
    "\n",
    "def check_update(C, C_pre, K):\n",
    "    res = True\n",
    "    for i in range(0, K):\n",
    "        if(C[i] != C_pre[i]):\n",
    "            res = False\n",
    "            break\n",
    "    return res"
   ]
  },
  {
   "cell_type": "markdown",
   "metadata": {},
   "source": [
    "```\n",
    "3. K-means Clustering\n",
    "```"
   ]
  },
  {
   "cell_type": "code",
   "execution_count": 5,
   "metadata": {},
   "outputs": [],
   "source": [
    "# K-means Clustering\n",
    "\n",
    "ds = df1.drop(columns = ['varieties of wheat'])\n",
    "closest = [0 for _ in range(len(ds))]\n",
    "ds['closest'] = closest\n",
    "K = 3\n",
    "C = [ [] for _ in range(K)]\n",
    "C_pre = [ [] for _ in range(K)]\n",
    "\n",
    "# Randomly initial k centers C={c1, ..., ck}\n",
    "for i in range(0, K):\n",
    "    x = np.random.randint(0, len(ds))\n",
    "    for j in range(0, len(ds[0:1].values[0])):\n",
    "        C[i].append(ds[x:x+1].values[0][j])\n",
    "        \n",
    "# while stopping criterion has not been met\n",
    "while(check_update(C, C_pre, K) == False):\n",
    "    # assignment step\n",
    "    # find closest center cj to instance pi assign instance pi to set Cj\n",
    "    for i in range(0, len(ds)):\n",
    "        d_list = ds[i:i+1].values[0].tolist()\n",
    "        closest[i] = shortest(d_list, C)\n",
    "    ds['closest'] = closest\n",
    "    C_pre = copy.deepcopy(C)\n",
    "    # update step\n",
    "    # set ci to be the center of all points in set Ci\n",
    "    for i in range(0, K):\n",
    "        cond_ds = ds[ds['closest'] == i]\n",
    "        for j in range(0, len(ds[x:x+1].values[0])):\n",
    "            C[i][j] = summarize(cond_ds, j)/len(cond_ds)\n",
    "\n",
    "# In the end, calculate the labels of the instances in set Ci and assign Ci with the label \n",
    "# that has the largest value count.\n",
    "res = [ [0, 0, 0] for _ in range(K)]\n",
    "for i in range(0, len(ds)):\n",
    "    x = ds.values[i][len(ds.values[i])-1]\n",
    "    x = int(x)\n",
    "    y = df1.values[i][len(df1.values[i])-1]\n",
    "    y = int(y)\n",
    "    y-=1\n",
    "    res[x][y]+=1\n",
    "for i in range(0, K):\n",
    "    res[i] = res[i].index(max(res[i]))\n",
    "\n",
    "K_means_pred = [0 for _ in range(len(ds))]  \n",
    "for i in range(0, len(ds)):\n",
    "    x = ds.values[i][len(ds.values[i])-1]\n",
    "    x = int(x)\n",
    "    K_means_pred[i] = res[x]+1"
   ]
  },
  {
   "cell_type": "markdown",
   "metadata": {},
   "source": [
    "```\n",
    "4. Support Vector Machine\n",
    "```"
   ]
  },
  {
   "cell_type": "code",
   "execution_count": 6,
   "metadata": {},
   "outputs": [],
   "source": [
    "# Support Vector Machine\n",
    "\n",
    "# Train-Test-Split\n",
    "ds = df2.copy(deep=True)\n",
    "X_train, X_test, y_train, y_test = train_test_split(ds.drop('label', axis=1), ds['label'], test_size=0.3)\n",
    "\n",
    "model = svm.SVC()\n",
    "L_parameters = [{'kernel': ['linear']}]\n",
    "P_parameters = [{'kernel': ['poly'], 'degree': [3, 5, 7], 'gamma': [1, 0.1, 0.01], 'coef0': [1, 0.1, 0.01]}]\n",
    "R_parameters = [{'kernel': ['rbf'], 'gamma': [1, 0.1, 0.01]}]\n",
    "scores = [\"precision\", \"recall\"]\n",
    "\n",
    "# linear kernel, K=5\n",
    "L_clf = GridSearchCV(estimator=model, param_grid=L_parameters, cv=5)\n",
    "L_clf.fit(X_train, y_train)\n",
    "linear_svm_pred = L_clf.predict(X_test)\n",
    "\n",
    "# polynomial kernel, K=5\n",
    "P_clf = GridSearchCV(estimator=model, param_grid=P_parameters, cv=5)\n",
    "P_clf.fit(X_train, y_train)\n",
    "poly_svm_pred = P_clf.predict(X_test)\n",
    "\n",
    "# RBF kernel, K=5\n",
    "R_clf = GridSearchCV(estimator=model, param_grid=R_parameters, cv=5)\n",
    "R_clf.fit(X_train, y_train)\n",
    "rbf_svm_pred = R_clf.predict(X_test)"
   ]
  },
  {
   "cell_type": "markdown",
   "metadata": {},
   "source": [
    "```\n",
    "5. Results\n",
    "```"
   ]
  },
  {
   "cell_type": "code",
   "execution_count": 7,
   "metadata": {},
   "outputs": [
    {
     "name": "stdout",
     "output_type": "stream",
     "text": [
      "+-----------------+------------------+----------+------------+------------+\n",
      "|      Method     | Confusion matrix | Accuracy |   Recall   | Precision  |\n",
      "+-----------------+------------------+----------+------------+------------+\n",
      "|     K_means     |   [[57  1  8]    | 0.90452  | 1: 0.86364 | 1: 0.85075 |\n",
      "|                 |    [ 9 59  0]    |          | 2: 0.86765 | 2: 0.98333 |\n",
      "|                 |    [ 1  0 64]]   |          | 3: 0.98462 | 3: 0.88889 |\n",
      "|                 |                  |          |            |            |\n",
      "|                 |                  |          |            |            |\n",
      "|   svm(linear)   |     [[31 17]     | 0.83019  | g: 0.98276 | g: 0.77027 |\n",
      "|                 |     [ 1 57]]     |          | b: 0.64583 | b: 0.96875 |\n",
      "|                 |                  |          |            |            |\n",
      "|                 |                  |          |            |            |\n",
      "| svm(polynomial) |     [[35 13]     | 0.87736  |   g: 1.0   | g: 0.8169  |\n",
      "|                 |     [ 0 58]]     |          | b: 0.72917 |   b: 1.0   |\n",
      "|                 |                  |          |            |            |\n",
      "|                 |                  |          |            |            |\n",
      "|     svm(RBF)    |     [[40  8]     | 0.92453  |   g: 1.0   | g: 0.87879 |\n",
      "|                 |     [ 0 58]]     |          | b: 0.83333 |   b: 1.0   |\n",
      "|                 |                  |          |            |            |\n",
      "|                 |                  |          |            |            |\n",
      "+-----------------+------------------+----------+------------+------------+\n"
     ]
    }
   ],
   "source": [
    "# Result\n",
    "\n",
    "df1_test = df1['varieties of wheat'].values\n",
    "df1_test = list(map(int, df1_test))\n",
    "df2_test = y_test.copy(deep=True)\n",
    "\n",
    "test = [df1_test, df2_test, df2_test, df2_test]\n",
    "pred = [K_means_pred, linear_svm_pred, poly_svm_pred, rbf_svm_pred]\n",
    "lab = [[1, 2, 3], ['g', 'b'], ['g', 'b'], ['g', 'b']]\n",
    "name = [\"K_means\", \"svm(linear)\", \"svm(polynomial)\", \"svm(RBF)\"]\n",
    "\n",
    "output = pt.PrettyTable()\n",
    "blank = [\" \", \" \", \" \", \" \", \" \"]\n",
    "output.field_names = [\"Method\", \"Confusion matrix\", \"Accuracy\", \"Recall\", \"Precision\"]\n",
    "for i in range(0, len(pred)):\n",
    "    cm = np.around(confusion_matrix(test[i], pred[i]), 5)\n",
    "    acc = np.around(accuracy_score(test[i], pred[i]), 5)\n",
    "    rec = np.around(recall_score(test[i], pred[i], labels=lab[i], average=None), 5)\n",
    "    pre = np.around(precision_score(test[i], pred[i], labels=lab[i], average=None), 5)\n",
    "    rec_str = \"\"\n",
    "    for j in range(0, len(lab[i])):\n",
    "        add_str = str(lab[i][j])+\": \"+str(rec[j])+\"\\n\"\n",
    "        rec_str+=add_str\n",
    "    pre_str = \"\"\n",
    "    for j in range(0, len(lab[i])):\n",
    "        add_str = str(lab[i][j])+\": \"+str(pre[j])+\"\\n\"\n",
    "        pre_str+=add_str\n",
    "    row = [name[i], cm, acc, rec_str, pre_str]\n",
    "    output.add_row(row)\n",
    "    output.add_row(blank)\n",
    "print(output)"
   ]
  },
  {
   "cell_type": "markdown",
   "metadata": {},
   "source": [
    "```\n",
    "6. Comparison & Conclusion:\n",
    "先說明我在這次作業是如何實作K means的，主要是參考slide的pseudo code來實作，先隨機指定三點為中心，再將各點指定給離自己最近的中心，接著將之前的中心更新成同一群的中心，不段重複assign和update的工作直到中心不在更動，過程利用一個新建的column - closest來儲存各點所屬的群，最後根據各群當中哪一種label佔最多，來做prediction\n",
    "    \n",
    "接著討論SVM的三種kernel，幾次測試的結果都是RBF的結果最好，polynomial的結果次之，linear的結果最差，當然也可能是我取的參數不夠好所造成的，不過因為polynomial和RBF都取了不只一種參數，整體而言還是具有一定參考性的\n",
    "```"
   ]
  },
  {
   "cell_type": "markdown",
   "metadata": {},
   "source": [
    "```\n",
    "7-1. Questions - K-means Clustering:\n",
    "Choose two features to execute your K-means function and draw a scatter plot with the computed centers \n",
    "and the predicted label for each instance.\n",
    "```"
   ]
  },
  {
   "cell_type": "code",
   "execution_count": 8,
   "metadata": {},
   "outputs": [
    {
     "data": {
      "image/png": "[encoded data removed]",
      "text/plain": [
       "<Figure size 360x360 with 1 Axes>"
      ]
     },
     "metadata": {
      "needs_background": "light"
     },
     "output_type": "display_data"
    }
   ],
   "source": [
    "# Questions\n",
    "# K-means Clustering\n",
    "\n",
    "ds = df1.loc[:, ['length of kernel', 'width of kernel']]\n",
    "closest = [0 for _ in range(len(ds))]\n",
    "ds['closest'] = closest\n",
    "K = 3\n",
    "C = [ [] for _ in range(K)]\n",
    "C_pre = [ [] for _ in range(K)]\n",
    "\n",
    "# Randomly initial k centers C={c1, ..., ck}\n",
    "for i in range(0, K):\n",
    "    x = np.random.randint(0, len(ds))\n",
    "    for j in range(0, len(ds[0:1].values[0])):\n",
    "        C[i].append(ds[x:x+1].values[0][j])\n",
    "        \n",
    "# while stopping criterion has not been met\n",
    "while(check_update(C, C_pre, K) == False):\n",
    "    # assignment step\n",
    "    # find closest center cj to instance pi assign instance pi to set Cj\n",
    "    for i in range(0, len(ds)):\n",
    "        d_list = ds[i:i+1].values[0].tolist()\n",
    "        closest[i] = shortest(d_list, C)\n",
    "    ds['closest'] = closest\n",
    "    C_pre = copy.deepcopy(C)\n",
    "    # update step\n",
    "    # set ci to be the center of all points in set Ci\n",
    "    for i in range(0, K):\n",
    "        cond_ds = ds[ds['closest'] == i]\n",
    "        for j in range(0, len(ds[x:x+1].values[0])):\n",
    "            C[i][j] = summarize(cond_ds, j)/len(cond_ds)\n",
    "\n",
    "# In the end, calculate the labels of the instances in set Ci and assign Ci with the label \n",
    "# that has the largest value count.\n",
    "res = [ [0, 0, 0] for _ in range(K)]\n",
    "for i in range(0, len(ds)):\n",
    "    x = ds.values[i][len(ds.values[i])-1]\n",
    "    x = int(x)\n",
    "    y = df1.values[i][len(df1.values[i])-1]\n",
    "    y = int(y)\n",
    "    y-=1\n",
    "    res[x][y]+=1\n",
    "for i in range(0, K):\n",
    "    res[i] = res[i].index(max(res[i]))\n",
    "\n",
    "K_means_pred = [0 for _ in range(len(ds))]  \n",
    "for i in range(0, len(ds)):\n",
    "    x = ds.values[i][len(ds.values[i])-1]\n",
    "    x = int(x)\n",
    "    K_means_pred[i] = res[x]+1\n",
    "    \n",
    "plt.figure(figsize=(5, 5))\n",
    "x = ds.loc[:, 'length of kernel'].values\n",
    "y = ds.loc[:, 'width of kernel'].values\n",
    "x = x.tolist()\n",
    "y = y.tolist()\n",
    "x = [ float(n) for n in x]\n",
    "y = [ float(n) for n in y]\n",
    "color = ds.loc[:, 'closest'].values\n",
    "color = color.tolist()\n",
    "color = [ int(n) for n in color]\n",
    "plt.scatter(x, y, c = color)\n",
    "\n",
    "x_centers = [C[0][0], C[1][0], C[2][0]]\n",
    "y_centers = [C[0][1], C[1][1], C[2][1]]\n",
    "plt.scatter(x_centers, y_centers, color=\"black\", marker='*')\n",
    "plt.title(\"black star is the center\")\n",
    "plt.xlabel(\"length of kernel\")\n",
    "plt.ylabel(\"width of kernel\")\n",
    "plt.show()"
   ]
  },
  {
   "cell_type": "markdown",
   "metadata": {},
   "source": [
    "```\n",
    "\n",
    "7-2. Questions - Support Vector Machine\n",
    "Show the average performance of K-fold cross-validation of parameter search in tables for each kernel.\n",
    "```"
   ]
  },
  {
   "cell_type": "code",
   "execution_count": 9,
   "metadata": {},
   "outputs": [
    {
     "name": "stdout",
     "output_type": "stream",
     "text": [
      "linear kernel\n",
      "+----+-------------------+-------------------+\n",
      "|    |   mean_test_score |   rank_test_score |\n",
      "|----+-------------------+-------------------|\n",
      "|  0 |          0.877551 |                 1 |\n",
      "+----+-------------------+-------------------+\n",
      "\n",
      "polynomial kernel\n",
      "+----+-------------------+-------------------+\n",
      "|    |   mean_test_score |   rank_test_score |\n",
      "|----+-------------------+-------------------|\n",
      "|  0 |          0.881633 |                 5 |\n",
      "|  1 |          0.897959 |                 1 |\n",
      "|  2 |          0.836735 |                14 |\n",
      "|  3 |          0.865306 |                 8 |\n",
      "|  4 |          0.885714 |                 3 |\n",
      "|  5 |          0.857143 |                10 |\n",
      "|  6 |          0.844898 |                13 |\n",
      "|  7 |          0.889796 |                 2 |\n",
      "|  8 |          0.877551 |                 7 |\n",
      "|  9 |          0.885714 |                 3 |\n",
      "| 10 |          0.861224 |                 9 |\n",
      "| 11 |          0.681633 |                22 |\n",
      "| 12 |          0.857143 |                10 |\n",
      "| 13 |          0.755102 |                18 |\n",
      "| 14 |          0.681633 |                22 |\n",
      "| 15 |          0.836735 |                14 |\n",
      "| 16 |          0.714286 |                20 |\n",
      "| 17 |          0.681633 |                22 |\n",
      "| 18 |          0.881633 |                 5 |\n",
      "| 19 |          0.836735 |                14 |\n",
      "| 20 |          0.681633 |                22 |\n",
      "| 21 |          0.857143 |                10 |\n",
      "| 22 |          0.718367 |                19 |\n",
      "| 23 |          0.681633 |                22 |\n",
      "| 24 |          0.836735 |                14 |\n",
      "| 25 |          0.710204 |                21 |\n",
      "| 26 |          0.681633 |                22 |\n",
      "+----+-------------------+-------------------+\n",
      "\n",
      "RBF kernel\n",
      "+----+-------------------+-------------------+\n",
      "|    |   mean_test_score |   rank_test_score |\n",
      "|----+-------------------+-------------------|\n",
      "|  0 |          0.914286 |                 2 |\n",
      "|  1 |          0.934694 |                 1 |\n",
      "|  2 |          0.828571 |                 3 |\n",
      "+----+-------------------+-------------------+\n"
     ]
    }
   ],
   "source": [
    "# Questions\n",
    "# Support Vector Machine\n",
    "\n",
    "df3 = pd.DataFrame(L_clf.cv_results_)\n",
    "df4 = pd.DataFrame(P_clf.cv_results_)\n",
    "df5 = pd.DataFrame(R_clf.cv_results_)\n",
    "\n",
    "print(\"linear kernel\")\n",
    "df3 = df3.loc[:, ['mean_test_score', 'rank_test_score']]\n",
    "print(tabulate(df3, headers='keys', tablefmt='psql'))\n",
    "print(\"\\npolynomial kernel\")\n",
    "df4 = df4.loc[:, ['mean_test_score', 'rank_test_score']]\n",
    "print(tabulate(df4, headers='keys', tablefmt='psql'))\n",
    "print(\"\\nRBF kernel\")\n",
    "df5 = df5.loc[:, ['mean_test_score', 'rank_test_score']]\n",
    "print(tabulate(df5, headers='keys', tablefmt='psql'))"
   ]
  }
 ],
 "metadata": {
  "kernelspec": {
   "display_name": "Python 3.7.4 64-bit",
   "language": "python",
   "name": "python37464bitac9542d4e9744469a5f40e43b23d61ae"
  },
  "language_info": {
   "codemirror_mode": {
    "name": "ipython",
    "version": 3
   },
   "file_extension": ".py",
   "mimetype": "text/x-python",
   "name": "python",
   "nbconvert_exporter": "python",
   "pygments_lexer": "ipython3",
   "version": "3.7.7"
  },
  "toc": {
   "base_numbering": 1,
   "nav_menu": {},
   "number_sections": true,
   "sideBar": true,
   "skip_h1_title": false,
   "title_cell": "Table of Contents",
   "title_sidebar": "Contents",
   "toc_cell": false,
   "toc_position": {},
   "toc_section_display": true,
   "toc_window_display": false
  },
  "varInspector": {
   "cols": {
    "lenName": 16,
    "lenType": 16,
    "lenVar": 40
   },
   "kernels_config": {
    "python": {
     "delete_cmd_postfix": "",
     "delete_cmd_prefix": "del ",
     "library": "var_list.py",
     "varRefreshCmd": "print(var_dic_list())"
    },
    "r": {
     "delete_cmd_postfix": ") ",
     "delete_cmd_prefix": "rm(",
     "library": "var_list.r",
     "varRefreshCmd": "cat(var_dic_list()) "
    }
   },
   "types_to_exclude": [
    "module",
    "function",
    "builtin_function_or_method",
    "instance",
    "_Feature"
   ],
   "window_display": false
  }
 },
 "nbformat": 4,
 "nbformat_minor": 2
}
